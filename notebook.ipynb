{
 "cells": [
  {
   "cell_type": "code",
   "execution_count": 3,
   "metadata": {},
   "outputs": [
    {
     "ename": "ModuleNotFoundError",
     "evalue": "No module named 'distutils'",
     "output_type": "error",
     "traceback": [
      "\u001b[1;31m---------------------------------------------------------------------------\u001b[0m",
      "\u001b[1;31mModuleNotFoundError\u001b[0m                       Traceback (most recent call last)",
      "Cell \u001b[1;32mIn[3], line 4\u001b[0m\n\u001b[0;32m      2\u001b[0m \u001b[38;5;28;01mimport\u001b[39;00m \u001b[38;5;21;01mos\u001b[39;00m\n\u001b[0;32m      3\u001b[0m \u001b[38;5;28;01mimport\u001b[39;00m \u001b[38;5;21;01mnumpy\u001b[39;00m \u001b[38;5;28;01mas\u001b[39;00m \u001b[38;5;21;01mnp\u001b[39;00m\n\u001b[1;32m----> 4\u001b[0m \u001b[38;5;28;01mfrom\u001b[39;00m \u001b[38;5;21;01mitkwidgets\u001b[39;00m \u001b[38;5;28;01mimport\u001b[39;00m view\n\u001b[0;32m      6\u001b[0m rabbit \u001b[38;5;241m=\u001b[39m \u001b[38;5;241m1\u001b[39m\n\u001b[0;32m      7\u001b[0m series \u001b[38;5;241m=\u001b[39m \u001b[38;5;124m\"\u001b[39m\u001b[38;5;124m400\u001b[39m\u001b[38;5;124m\"\u001b[39m\n",
      "File \u001b[1;32mc:\\Users\\Chris\\OneDrive\\2023\\BME_M2\\STAGE\\Thesis\\Scripts_and_Venv\\venvStage\\Lib\\site-packages\\itkwidgets\\__init__.py:3\u001b[0m\n\u001b[0;32m      1\u001b[0m \u001b[38;5;28;01mfrom\u001b[39;00m \u001b[38;5;21;01m.\u001b[39;00m\u001b[38;5;21;01m_version\u001b[39;00m \u001b[38;5;28;01mimport\u001b[39;00m version_info, __version__\n\u001b[1;32m----> 3\u001b[0m \u001b[38;5;28;01mfrom\u001b[39;00m \u001b[38;5;21;01m.\u001b[39;00m\u001b[38;5;21;01mwidget_viewer\u001b[39;00m \u001b[38;5;28;01mimport\u001b[39;00m Viewer, view\n\u001b[0;32m      4\u001b[0m \u001b[38;5;28;01mfrom\u001b[39;00m \u001b[38;5;21;01m.\u001b[39;00m \u001b[38;5;28;01mimport\u001b[39;00m cm\n\u001b[0;32m      6\u001b[0m \u001b[38;5;28;01mdef\u001b[39;00m \u001b[38;5;21m_jupyter_nbextension_paths\u001b[39m():\n",
      "File \u001b[1;32mc:\\Users\\Chris\\OneDrive\\2023\\BME_M2\\STAGE\\Thesis\\Scripts_and_Venv\\venvStage\\Lib\\site-packages\\itkwidgets\\widget_viewer.py:12\u001b[0m\n\u001b[0;32m      9\u001b[0m \u001b[38;5;28;01mimport\u001b[39;00m \u001b[38;5;21;01mfunctools\u001b[39;00m\n\u001b[0;32m     10\u001b[0m \u001b[38;5;28;01mimport\u001b[39;00m \u001b[38;5;21;01mtime\u001b[39;00m\n\u001b[1;32m---> 12\u001b[0m \u001b[38;5;28;01mimport\u001b[39;00m \u001b[38;5;21;01mitk\u001b[39;00m\n\u001b[0;32m     13\u001b[0m \u001b[38;5;28;01mimport\u001b[39;00m \u001b[38;5;21;01mnumpy\u001b[39;00m \u001b[38;5;28;01mas\u001b[39;00m \u001b[38;5;21;01mnp\u001b[39;00m\n\u001b[0;32m     14\u001b[0m \u001b[38;5;28;01mimport\u001b[39;00m \u001b[38;5;21;01mipywidgets\u001b[39;00m \u001b[38;5;28;01mas\u001b[39;00m \u001b[38;5;21;01mwidgets\u001b[39;00m\n",
      "File \u001b[1;32mc:\\Users\\Chris\\OneDrive\\2023\\BME_M2\\STAGE\\Thesis\\Scripts_and_Venv\\venvStage\\Lib\\site-packages\\itk\\__init__.py:39\u001b[0m\n\u001b[0;32m     31\u001b[0m \u001b[38;5;28;01mdel\u001b[39;00m _delvewheel_patch_1_5_1\n\u001b[0;32m     32\u001b[0m \u001b[38;5;66;03m# end delvewheel patch\u001b[39;00m\n\u001b[0;32m     33\u001b[0m \n\u001b[0;32m     34\u001b[0m \u001b[38;5;66;03m# Must import module from python path, not local reference\u001b[39;00m\n\u001b[1;32m   (...)\u001b[0m\n\u001b[0;32m     37\u001b[0m \u001b[38;5;66;03m# `import itkConfig`, even if they are the same file. The\u001b[39;00m\n\u001b[0;32m     38\u001b[0m \u001b[38;5;66;03m# LazyLoading and other values may be different in the two contexts.\u001b[39;00m\n\u001b[1;32m---> 39\u001b[0m \u001b[38;5;28;01mfrom\u001b[39;00m \u001b[38;5;21;01mitkConfig\u001b[39;00m \u001b[38;5;28;01mimport\u001b[39;00m ITK_GLOBAL_VERSION_STRING \u001b[38;5;28;01mas\u001b[39;00m __version__\n\u001b[0;32m     41\u001b[0m \u001b[38;5;28;01mfrom\u001b[39;00m \u001b[38;5;21;01mitk\u001b[39;00m\u001b[38;5;21;01m.\u001b[39;00m\u001b[38;5;21;01msupport\u001b[39;00m\u001b[38;5;21;01m.\u001b[39;00m\u001b[38;5;21;01mextras\u001b[39;00m \u001b[38;5;28;01mimport\u001b[39;00m \u001b[38;5;241m*\u001b[39m\n\u001b[0;32m     42\u001b[0m \u001b[38;5;28;01mfrom\u001b[39;00m \u001b[38;5;21;01mitk\u001b[39;00m\u001b[38;5;21;01m.\u001b[39;00m\u001b[38;5;21;01msupport\u001b[39;00m\u001b[38;5;21;01m.\u001b[39;00m\u001b[38;5;21;01minit_helpers\u001b[39;00m \u001b[38;5;28;01mimport\u001b[39;00m \u001b[38;5;241m*\u001b[39m\n",
      "File \u001b[1;32mc:\\Users\\Chris\\OneDrive\\2023\\BME_M2\\STAGE\\Thesis\\Scripts_and_Venv\\venvStage\\Lib\\site-packages\\itkConfig.py:72\u001b[0m\n\u001b[0;32m     66\u001b[0m         \u001b[38;5;28mprint\u001b[39m(\n\u001b[0;32m     67\u001b[0m             \u001b[38;5;124m\"\u001b[39m\u001b[38;5;124m   Valid False values are (case insensitive): \u001b[39m\u001b[38;5;124m'\u001b[39m\u001b[38;5;124mn\u001b[39m\u001b[38;5;124m'\u001b[39m\u001b[38;5;124m, \u001b[39m\u001b[38;5;124m'\u001b[39m\u001b[38;5;124mno\u001b[39m\u001b[38;5;124m'\u001b[39m\u001b[38;5;124m, \u001b[39m\u001b[38;5;124m'\u001b[39m\u001b[38;5;124mf\u001b[39m\u001b[38;5;124m'\u001b[39m\u001b[38;5;124m, \u001b[39m\u001b[38;5;124m'\u001b[39m\u001b[38;5;124mfalse\u001b[39m\u001b[38;5;124m'\u001b[39m\u001b[38;5;124m, \u001b[39m\u001b[38;5;124m'\u001b[39m\u001b[38;5;124moff\u001b[39m\u001b[38;5;124m'\u001b[39m\u001b[38;5;124m, and \u001b[39m\u001b[38;5;124m'\u001b[39m\u001b[38;5;124m0\u001b[39m\u001b[38;5;124m'\u001b[39m\u001b[38;5;124m\"\u001b[39m\n\u001b[0;32m     68\u001b[0m         )\n\u001b[0;32m     69\u001b[0m     \u001b[38;5;28;01mreturn\u001b[39;00m \u001b[38;5;28mbool\u001b[39m(_strtobool(default_string))\n\u001b[1;32m---> 72\u001b[0m DefaultFactoryLoading: \u001b[38;5;28mbool\u001b[39m \u001b[38;5;241m=\u001b[39m \u001b[43m_get_environment_boolean\u001b[49m\u001b[43m(\u001b[49m\u001b[38;5;124;43m\"\u001b[39;49m\u001b[38;5;124;43mITK_PYTHON_DEFAULTFACTORYLOADING\u001b[39;49m\u001b[38;5;124;43m\"\u001b[39;49m\u001b[43m,\u001b[49m\u001b[43m \u001b[49m\u001b[38;5;124;43m\"\u001b[39;49m\u001b[38;5;124;43mTrue\u001b[39;49m\u001b[38;5;124;43m\"\u001b[39;49m\u001b[43m)\u001b[49m\n\u001b[0;32m     73\u001b[0m LazyLoading: \u001b[38;5;28mbool\u001b[39m \u001b[38;5;241m=\u001b[39m _get_environment_boolean(\u001b[38;5;124m\"\u001b[39m\u001b[38;5;124mITK_PYTHON_LAZYLOADING\u001b[39m\u001b[38;5;124m\"\u001b[39m, \u001b[38;5;124m\"\u001b[39m\u001b[38;5;124mTrue\u001b[39m\u001b[38;5;124m\"\u001b[39m)\n\u001b[0;32m     74\u001b[0m NotInPlace: \u001b[38;5;28mbool\u001b[39m \u001b[38;5;241m=\u001b[39m _get_environment_boolean(\u001b[38;5;124m\"\u001b[39m\u001b[38;5;124mITK_PYTHON_NOTINPLACE\u001b[39m\u001b[38;5;124m\"\u001b[39m, \u001b[38;5;124m\"\u001b[39m\u001b[38;5;124mFalse\u001b[39m\u001b[38;5;124m\"\u001b[39m)\n",
      "File \u001b[1;32mc:\\Users\\Chris\\OneDrive\\2023\\BME_M2\\STAGE\\Thesis\\Scripts_and_Venv\\venvStage\\Lib\\site-packages\\itkConfig.py:54\u001b[0m, in \u001b[0;36m_get_environment_boolean\u001b[1;34m(environment_var, default_string)\u001b[0m\n\u001b[0;32m     48\u001b[0m \u001b[38;5;28;01mdef\u001b[39;00m \u001b[38;5;21m_get_environment_boolean\u001b[39m(environment_var: \u001b[38;5;28mstr\u001b[39m, default_string: \u001b[38;5;28mstr\u001b[39m) \u001b[38;5;241m-\u001b[39m\u001b[38;5;241m>\u001b[39m \u001b[38;5;28mbool\u001b[39m:\n\u001b[0;32m     49\u001b[0m     \u001b[38;5;66;03m# Use defaults if not available as environmental overrides\u001b[39;00m\n\u001b[0;32m     50\u001b[0m     \u001b[38;5;66;03m# True values are y, yes, t, true, on and 1;\u001b[39;00m\n\u001b[0;32m     51\u001b[0m     \u001b[38;5;66;03m# False values are n, no, f, false, off and 0.\u001b[39;00m\n\u001b[0;32m     52\u001b[0m     \u001b[38;5;66;03m# Raises ValueError if val is anything else.\u001b[39;00m\n\u001b[0;32m     53\u001b[0m     \u001b[38;5;28;01mfrom\u001b[39;00m \u001b[38;5;21;01mos\u001b[39;00m \u001b[38;5;28;01mimport\u001b[39;00m environ \u001b[38;5;28;01mas\u001b[39;00m _environ\n\u001b[1;32m---> 54\u001b[0m     \u001b[38;5;28;01mfrom\u001b[39;00m \u001b[38;5;21;01mdistutils\u001b[39;00m\u001b[38;5;21;01m.\u001b[39;00m\u001b[38;5;21;01mutil\u001b[39;00m \u001b[38;5;28;01mimport\u001b[39;00m strtobool \u001b[38;5;28;01mas\u001b[39;00m _strtobool\n\u001b[0;32m     56\u001b[0m     \u001b[38;5;28;01mtry\u001b[39;00m:\n\u001b[0;32m     57\u001b[0m         _StringDefault: \u001b[38;5;28mstr\u001b[39m \u001b[38;5;241m=\u001b[39m _environ\u001b[38;5;241m.\u001b[39mget(environment_var, default_string)\n",
      "\u001b[1;31mModuleNotFoundError\u001b[0m: No module named 'distutils'"
     ]
    }
   ],
   "source": [
    "import pydicom\n",
    "import os\n",
    "import numpy as np\n",
    "from itkwidgets import view\n",
    "\n",
    "rabbit = 1\n",
    "series = \"400\"\n",
    "time = \"b00000\"\n",
    "PathDicom = f\"D://copyRaw//Rabbit_AGUIX_{rabbit}//2021_01_20.4511.{series}.2023_09_30.Rabbit_Aguix_4511_{time}//Conventional\"\n",
    "DCMFiles = [os.path.join(dirName, filename)\n",
    "            for dirName, _, fileList in os.walk(PathDicom)\n",
    "            for filename in fileList if filename.lower().endswith('.dcm')]\n",
    "\n",
    "print(len(DCMFiles))\n",
    "\n",
    "# Load the first image to get the slice thickness\n",
    "ref_image = pydicom.read_file(DCMFiles[0])\n",
    "\n",
    "# Assuming all slices have the same thickness\n",
    "slice_thickness = float(ref_image.SliceThickness)\n",
    "\n",
    "# Load all images and sort by ImagePositionPatient (z-axis)\n",
    "images = [pydicom.read_file(f) for f in DCMFiles]\n",
    "images.sort(key=lambda x: float(x.ImagePositionPatient[2]))\n",
    "\n",
    "# Assuming all images have the same dimensions\n",
    "ConstPixelDims = (int(images[0].Rows), int(images[0].Columns), len(images))\n",
    "\n",
    "# Create a 3D numpy array for the images\n",
    "ArrayDicom = np.zeros(ConstPixelDims, dtype=ref_image.pixel_array.dtype)\n",
    "\n",
    "# Fill the 3D array with the image pixel data\n",
    "for i, img in enumerate(images):\n",
    "    ArrayDicom[:, :, i] = img.pixel_array\n",
    "\n",
    "import matplotlib.pyplot as plt\n",
    "\n",
    "# Display one slice\n",
    "plt.figure(figsize=(10, 10))\n",
    "plt.imshow(ArrayDicom[:, :, int(len(images)/2)], cmap='gray')\n",
    "plt.axis('off')\n",
    "plt.show()\n",
    "\n",
    "view(ArrayDicom)"
   ]
  }
 ],
 "metadata": {
  "kernelspec": {
   "display_name": "venvStage",
   "language": "python",
   "name": "python3"
  },
  "language_info": {
   "codemirror_mode": {
    "name": "ipython",
    "version": 3
   },
   "file_extension": ".py",
   "mimetype": "text/x-python",
   "name": "python",
   "nbconvert_exporter": "python",
   "pygments_lexer": "ipython3",
   "version": "3.12.0"
  }
 },
 "nbformat": 4,
 "nbformat_minor": 2
}
